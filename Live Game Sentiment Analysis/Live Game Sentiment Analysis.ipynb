{
  "cells": [
    {
      "cell_type": "code",
      "execution_count": 11,
      "metadata": {
        "vscode": {
          "languageId": "plaintext"
        },
        "id": "Gydyrk4uSbZw"
      },
      "outputs": [],
      "source": [
        "# Authenticate Google Cloud in Colab\n",
        "from google.colab import auth\n",
        "auth.authenticate_user()"
      ]
    },
    {
      "cell_type": "code",
      "source": [
        "# Install Required Libraries\n",
        "!pip install google-cloud-storage google-cloud-bigquery nltk pandas"
      ],
      "metadata": {
        "id": "D7NXnwDgSmey"
      },
      "execution_count": null,
      "outputs": []
    },
    {
      "source": [
        "from google.cloud import storage\n",
        "\n",
        "# Initialize GCS client\n",
        "storage_client = storage.Client()\n",
        "\n",
        "# Specify your GCS bucket and file name\n",
        "bucket_name = 'gcp-mlb-hackathon-2025' # Make sure this is the correct bucket name\n",
        "blob_name = 'datasets/mlb-fan-content-interaction-data/2025-mlb-fan-favs-follows.json'\n",
        "\n",
        "# Get the blob directly without getting the bucket metadata first\n",
        "# This assumes the bucket is public and blob_name includes the full path\n",
        "blob = storage_client.bucket(bucket_name).blob(blob_name)\n",
        "\n",
        "# Download the file\n",
        "raw_data = blob.download_as_text()\n",
        "\n",
        "# Print the data (optional)\n",
        "print(raw_data[0:100])"
      ],
      "cell_type": "code",
      "metadata": {
        "id": "3VAZpFJNTBkj"
      },
      "execution_count": null,
      "outputs": []
    },
    {
      "cell_type": "code",
      "source": [],
      "metadata": {
        "id": "UmYz2dFpVAdx"
      },
      "execution_count": null,
      "outputs": []
    }
  ],
  "metadata": {
    "language_info": {
      "name": "python"
    },
    "colab": {
      "provenance": []
    },
    "kernelspec": {
      "name": "python3",
      "display_name": "Python 3"
    }
  },
  "nbformat": 4,
  "nbformat_minor": 0
}